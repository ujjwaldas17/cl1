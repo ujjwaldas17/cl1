{
 "cells": [
  {
   "cell_type": "code",
   "execution_count": 1,
   "id": "926684fb",
   "metadata": {},
   "outputs": [
    {
     "name": "stdout",
     "output_type": "stream",
     "text": [
      "2\n"
     ]
    }
   ],
   "source": [
    "a=10\n",
    "result=a>>2\n",
    "print(result)"
   ]
  },
  {
   "cell_type": "code",
   "execution_count": 3,
   "id": "94a72357",
   "metadata": {},
   "outputs": [
    {
     "name": "stdout",
     "output_type": "stream",
     "text": [
      "40\n"
     ]
    }
   ],
   "source": [
    "a=10\n",
    "result=a<<2\n",
    "print(result)"
   ]
  },
  {
   "cell_type": "code",
   "execution_count": 4,
   "id": "70f84411",
   "metadata": {},
   "outputs": [
    {
     "data": {
      "text/plain": [
       "'0b1010'"
      ]
     },
     "execution_count": 4,
     "metadata": {},
     "output_type": "execute_result"
    }
   ],
   "source": [
    "bin(10)"
   ]
  },
  {
   "cell_type": "code",
   "execution_count": 6,
   "id": "aa0976ef",
   "metadata": {},
   "outputs": [
    {
     "data": {
      "text/plain": [
       "'0b101000'"
      ]
     },
     "execution_count": 6,
     "metadata": {},
     "output_type": "execute_result"
    }
   ],
   "source": [
    "bin(40)"
   ]
  },
  {
   "cell_type": "code",
   "execution_count": 8,
   "id": "f259bdf3",
   "metadata": {},
   "outputs": [
    {
     "name": "stdout",
     "output_type": "stream",
     "text": [
      "enter student name:abhay\n",
      "welcome,abhay\n"
     ]
    }
   ],
   "source": [
    "#take input from the operators\n",
    "name=input('enter student name:')\n",
    "print(f'welcome,{name}')"
   ]
  },
  {
   "cell_type": "code",
   "execution_count": 9,
   "id": "04964c7f",
   "metadata": {},
   "outputs": [
    {
     "name": "stdout",
     "output_type": "stream",
     "text": [
      "enter student name:ajay\n",
      "welcome:ajay\n"
     ]
    }
   ],
   "source": [
    "name=input('enter student name:')\n",
    "print(f'welcome:{name}')"
   ]
  },
  {
   "cell_type": "code",
   "execution_count": 10,
   "id": "de7d4f0c",
   "metadata": {},
   "outputs": [
    {
     "name": "stdout",
     "output_type": "stream",
     "text": [
      "enter roll no:3344\n",
      "welcome:3344\n"
     ]
    }
   ],
   "source": [
    "rn=input('enter roll no:')\n",
    "print(f'welcome:{rn}')"
   ]
  },
  {
   "cell_type": "code",
   "execution_count": 12,
   "id": "a4bf3e7c",
   "metadata": {},
   "outputs": [
    {
     "name": "stdout",
     "output_type": "stream",
     "text": [
      "8\n"
     ]
    }
   ],
   "source": [
    "#assignment operators\n",
    "a=5\n",
    "a=a+3\n",
    "print(a)"
   ]
  },
  {
   "cell_type": "code",
   "execution_count": 13,
   "id": "69a6dc6d",
   "metadata": {},
   "outputs": [
    {
     "name": "stdout",
     "output_type": "stream",
     "text": [
      "8\n"
     ]
    }
   ],
   "source": [
    "a=5\n",
    "a+=3\n",
    "print(a)"
   ]
  },
  {
   "cell_type": "code",
   "execution_count": 1,
   "id": "ce8af555",
   "metadata": {},
   "outputs": [
    {
     "name": "stdout",
     "output_type": "stream",
     "text": [
      "6\n"
     ]
    }
   ],
   "source": [
    "a=2\n",
    "a*=3\n",
    "print(a)"
   ]
  },
  {
   "cell_type": "code",
   "execution_count": 2,
   "id": "21805008",
   "metadata": {
    "scrolled": true
   },
   "outputs": [
    {
     "name": "stdout",
     "output_type": "stream",
     "text": [
      "3.0\n"
     ]
    }
   ],
   "source": [
    "a=6\n",
    "a/=2\n",
    "print(a)"
   ]
  },
  {
   "cell_type": "code",
   "execution_count": 4,
   "id": "27e0ef47",
   "metadata": {},
   "outputs": [
    {
     "name": "stdout",
     "output_type": "stream",
     "text": [
      "congs,you can drive\n"
     ]
    }
   ],
   "source": [
    "#if else statement\n",
    "age=21\n",
    "if age >= 18:\n",
    "    print(\"congs,you can drive\")\n",
    "else:\n",
    "    print(\"sorry,you cannot drive\")\n"
   ]
  },
  {
   "cell_type": "code",
   "execution_count": 5,
   "id": "77ed9a4e",
   "metadata": {},
   "outputs": [
    {
     "name": "stdout",
     "output_type": "stream",
     "text": [
      "A\n"
     ]
    }
   ],
   "source": [
    "score=88\n",
    "if score >=90:\n",
    "    print(\"A+\")\n",
    "0elif score >=80:\n",
    "    print(\"A\")\n",
    "elif score >=70:\n",
    "    print(\"B+\")\n",
    "else:\n",
    "    print(\"B\")"
   ]
  },
  {
   "cell_type": "code",
   "execution_count": 9,
   "id": "d8758485",
   "metadata": {},
   "outputs": [
    {
     "name": "stdout",
     "output_type": "stream",
     "text": [
      "largest num is 100\n"
     ]
    }
   ],
   "source": [
    "import numpy as np\n",
    "1st=[1,2,3,4]\n",
    "np.array (1st)\n"
   ]
  },
  {
   "cell_type": "code",
   "execution_count": 11,
   "id": "504c14a8",
   "metadata": {},
   "outputs": [
    {
     "name": "stdout",
     "output_type": "stream",
     "text": [
      "please enter first number 9\n",
      "please enter second number 7\n",
      "please enter third number 6\n",
      "largest num is 9\n"
     ]
    }
   ],
   "source": [
    "#find largest number from 3 given number\n",
    "num1=input('please enter first number ')\n",
    "num2=input('please enter second number ')\n",
    "num3=input('please enter third number ')\n",
    "if (num1>=num2) and (num1>=num3):\n",
    "    largest=num1\n",
    "elif (num2>=num1) and (num2>=num3):\n",
    "    largest=num2\n",
    "else:\n",
    "    largest=num3\n",
    "print (\"largest num is\",largest)"
   ]
  },
  {
   "cell_type": "code",
   "execution_count": null,
   "id": "c91732f8",
   "metadata": {},
   "outputs": [],
   "source": [
    "#we have three designation : Executive,Manager, Senior manager\n",
    "#take input from user \"Designation \" and print salry range of that Designation \n",
    "#Executive:30000-40000\n",
    "#Manager:60000-90000\n",
    "#Senior manager:120000-160000\n",
    "\n",
    "#Input:Ask the designation from user : \"Executive\"\n",
    "#Output: The salary range of the Executive is\n"
   ]
  },
  {
   "cell_type": "code",
   "execution_count": 5,
   "id": "0efc694d",
   "metadata": {},
   "outputs": [
    {
     "ename": "SyntaxError",
     "evalue": "expected ':' (4163522287.py, line 10)",
     "output_type": "error",
     "traceback": [
      "\u001b[1;36m  Cell \u001b[1;32mIn[5], line 10\u001b[1;36m\u001b[0m\n\u001b[1;33m    else\u001b[0m\n\u001b[1;37m         ^\u001b[0m\n\u001b[1;31mSyntaxError\u001b[0m\u001b[1;31m:\u001b[0m expected ':'\n"
     ]
    }
   ],
   "source": [
    "designation = input(\"Enter your designation (Executive/Manager/Senior manager):\")\n",
    "designation = desgination.lower() #convert to small letters\n",
    "\n",
    "if designation == \"execuitve\":\n",
    "    print(\"The salary range for executive between 30000-40000\")\n",
    "elif designation == \"manager\":\n",
    "    print(\"The salary range for manager between 60000-90000\")\n",
    "elif designation == \"Senior manger\":\n",
    "    print (\"The salary range for manager between 120000-160000\")\n",
    "else \n",
    "    print (\"please enter correct choice\"):"
   ]
  },
  {
   "cell_type": "code",
   "execution_count": 3,
   "id": "e73b1b4d",
   "metadata": {},
   "outputs": [],
   "source": [
    "import pandas as pd"
   ]
  },
  {
   "cell_type": "code",
   "execution_count": null,
   "id": "acae42ff",
   "metadata": {},
   "outputs": [],
   "source": [
    "import numpy as np\n",
    "!pip install pandas"
   ]
  },
  {
   "cell_type": "code",
   "execution_count": null,
   "id": "fe563191",
   "metadata": {},
   "outputs": [],
   "source": [
    "#create a dataframe\n",
    "df=pd.DataFrame(datat) #shift +tab"
   ]
  },
  {
   "cell_type": "code",
   "execution_count": null,
   "id": "e9fbf48d",
   "metadata": {},
   "outputs": [],
   "source": [
    "df.describe()"
   ]
  },
  {
   "cell_type": "code",
   "execution_count": null,
   "id": "ca1a4acc",
   "metadata": {},
   "outputs": [],
   "source": [
    "df.iloc[4:4]"
   ]
  },
  {
   "cell_type": "code",
   "execution_count": null,
   "id": "8337f0ae",
   "metadata": {},
   "outputs": [],
   "source": [
    "np.nan #nan mns null value\n",
    "\n",
    "df.describe()\n"
   ]
  },
  {
   "cell_type": "code",
   "execution_count": null,
   "id": "db55c121",
   "metadata": {},
   "outputs": [],
   "source": [
    "df.describe()"
   ]
  }
 ],
 "metadata": {
  "kernelspec": {
   "display_name": "Python 3 (ipykernel)",
   "language": "python",
   "name": "python3"
  },
  "language_info": {
   "codemirror_mode": {
    "name": "ipython",
    "version": 3
   },
   "file_extension": ".py",
   "mimetype": "text/x-python",
   "name": "python",
   "nbconvert_exporter": "python",
   "pygments_lexer": "ipython3",
   "version": "3.11.3"
  }
 },
 "nbformat": 4,
 "nbformat_minor": 5
}
